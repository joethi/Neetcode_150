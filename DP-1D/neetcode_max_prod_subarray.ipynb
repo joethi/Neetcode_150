{
 "cells": [
  {
   "cell_type": "code",
   "execution_count": null,
   "id": "8391d5dd",
   "metadata": {},
   "outputs": [],
   "source": [
    "from typing import List\n",
    "def maxProduct(self, nums: List[int]) -> int:\n",
    "    curMin =  min(nums[0], nums[1], nums[0] * nums[1])\n",
    "    curMax =  max(nums[0], nums[1], nums[0] * nums[1])\n",
    "    \n"
   ]
  },
  {
   "cell_type": "code",
   "execution_count": 3,
   "id": "f33c456b",
   "metadata": {},
   "outputs": [],
   "source": [
    "def maxProduct(nums):\n",
    "    res = nums[0]\n",
    "    curMin, curMax = 1, 1\n",
    "\n",
    "    for num in nums:\n",
    "        print(\"num:\", num)\n",
    "        tmp = curMax * num\n",
    "        print(\"tmp:\", tmp)\n",
    "        curMax = max(num * curMax, num * curMin, num)\n",
    "        print(\"curMax:\", curMax)\n",
    "        curMin = min(tmp, num * curMin, num)\n",
    "        print(\"curMin:\", curMin)\n",
    "        res = max(res, curMax)\n",
    "        print(\"res:\", res)\n",
    "        print(\"--------------------------------\")\n",
    "    return res"
   ]
  },
  {
   "cell_type": "code",
   "execution_count": 4,
   "id": "c2aa7780",
   "metadata": {},
   "outputs": [
    {
     "name": "stdout",
     "output_type": "stream",
     "text": [
      "num: 2\n",
      "tmp: 2\n",
      "curMax: 2\n",
      "curMin: 2\n",
      "res: 2\n",
      "--------------------------------\n",
      "num: 3\n",
      "tmp: 6\n",
      "curMax: 6\n",
      "curMin: 3\n",
      "res: 6\n",
      "--------------------------------\n",
      "num: -2\n",
      "tmp: -12\n",
      "curMax: -2\n",
      "curMin: -12\n",
      "res: 6\n",
      "--------------------------------\n",
      "num: 4\n",
      "tmp: -8\n",
      "curMax: 4\n",
      "curMin: -48\n",
      "res: 6\n",
      "--------------------------------\n"
     ]
    },
    {
     "data": {
      "text/plain": [
       "6"
      ]
     },
     "execution_count": 4,
     "metadata": {},
     "output_type": "execute_result"
    }
   ],
   "source": [
    "nums_arr = [2, 3, -2, 4]\n",
    "maxProduct(nums_arr)"
   ]
  },
  {
   "cell_type": "code",
   "execution_count": 23,
   "id": "3b438513",
   "metadata": {},
   "outputs": [],
   "source": [
    "def partition(s):\n",
    "    #write code here\n",
    "    res = []\n",
    "    n = len(s)\n",
    "    dp = [[False] * n for _ in range(n)]\n",
    "    count = 0\n",
    "    for l in range(1, n+1):\n",
    "        print(\"l:\",l)\n",
    "        for i in range(n-l+1):\n",
    "            j = i + l - 1\n",
    "            print(\"i:\",i,\"j:\",j)\n",
    "            if l == 1:\n",
    "                dp[i][j] = True\n",
    "            if l == 2 and s[i] == s[j]:\n",
    "                dp[i][j] = True\n",
    "            if l >= 3 and s[i] == s[j]:\n",
    "                dp[i][j] = dp[i+1][j-1]\n",
    "    def helper(j,part_lst):\n",
    "        if j > (n-1):\n",
    "            res.append(part_lst[:])\n",
    "            return\n",
    "        for i in range(j,n):\n",
    "            if dp[j][i]:\n",
    "                part_lst.append(s[j:i+1])\n",
    "                helper(i+1,part_lst)\n",
    "                part_lst.pop()\n",
    "        # return res\n",
    "    helper(0,[])\n",
    "    return res\n"
   ]
  },
  {
   "cell_type": "code",
   "execution_count": 24,
   "id": "190784c0",
   "metadata": {},
   "outputs": [
    {
     "name": "stdout",
     "output_type": "stream",
     "text": [
      "l: 1\n",
      "i: 0 j: 0\n",
      "i: 1 j: 1\n",
      "i: 2 j: 2\n",
      "l: 2\n",
      "i: 0 j: 1\n",
      "i: 1 j: 2\n",
      "l: 3\n",
      "i: 0 j: 2\n"
     ]
    },
    {
     "data": {
      "text/plain": [
       "[['p', 'p', 'q'], ['pp', 'q']]"
      ]
     },
     "execution_count": 24,
     "metadata": {},
     "output_type": "execute_result"
    }
   ],
   "source": [
    "st = \"ppq\"\n",
    "partition(st)\n",
    "\n",
    "# Output: [[\"p\",\"p\",\"q\"],[\"pp\",\"q\"]]"
   ]
  },
  {
   "cell_type": "code",
   "execution_count": 15,
   "id": "749652e2",
   "metadata": {},
   "outputs": [],
   "source": [
    "def palindrome(s):\n",
    "  n = len(s)\n",
    "  print(\"n:\",n)\n",
    "  dp = [[False] * n for _ in range(n)]\n",
    "  count = 0\n",
    "  for l in range(1, n+1):\n",
    "    print(\"l:\",l)\n",
    "    for i in range(n-l+1):\n",
    "      j = i + l - 1\n",
    "      print(\"i:\",i,\"j:\",j)\n",
    "      if l == 1:\n",
    "        dp[i][j] = True\n",
    "      if l == 2 and s[i] == s[j]:\n",
    "        dp[i][j] = True\n",
    "      if l >= 3 and s[i] == s[j]:\n",
    "        dp[i][j] = dp[i+1][j-1]\n",
    "      if dp[i][j] == True:\n",
    "        count += 1\n",
    "    print(\"------------\")   \n",
    "  return count"
   ]
  },
  {
   "cell_type": "code",
   "execution_count": 17,
   "id": "100b1c2b",
   "metadata": {},
   "outputs": [
    {
     "name": "stdout",
     "output_type": "stream",
     "text": [
      "n: 4\n",
      "l: 1\n",
      "i: 0 j: 0\n",
      "i: 1 j: 1\n",
      "i: 2 j: 2\n",
      "i: 3 j: 3\n",
      "------------\n",
      "l: 2\n",
      "i: 0 j: 1\n",
      "i: 1 j: 2\n",
      "i: 2 j: 3\n",
      "------------\n",
      "l: 3\n",
      "i: 0 j: 2\n",
      "i: 1 j: 3\n",
      "------------\n",
      "l: 4\n",
      "i: 0 j: 3\n",
      "------------\n"
     ]
    },
    {
     "data": {
      "text/plain": [
       "4"
      ]
     },
     "execution_count": 17,
     "metadata": {},
     "output_type": "execute_result"
    }
   ],
   "source": [
    "st = \"pqrp\"\n",
    "palindrome(st)"
   ]
  },
  {
   "cell_type": "code",
   "execution_count": null,
   "id": "c0f7d5fd",
   "metadata": {},
   "outputs": [],
   "source": []
  }
 ],
 "metadata": {
  "kernelspec": {
   "display_name": "Azure_end_to_end_project",
   "language": "python",
   "name": "python3"
  },
  "language_info": {
   "codemirror_mode": {
    "name": "ipython",
    "version": 3
   },
   "file_extension": ".py",
   "mimetype": "text/x-python",
   "name": "python",
   "nbconvert_exporter": "python",
   "pygments_lexer": "ipython3",
   "version": "3.12.2"
  }
 },
 "nbformat": 4,
 "nbformat_minor": 5
}
