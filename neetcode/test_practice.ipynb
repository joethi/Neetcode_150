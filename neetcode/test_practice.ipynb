{
 "cells": [
  {
   "cell_type": "code",
   "execution_count": null,
   "id": "7aac8b81",
   "metadata": {},
   "outputs": [],
   "source": []
  },
  {
   "cell_type": "code",
   "execution_count": 7,
   "id": "e9c60aed",
   "metadata": {},
   "outputs": [],
   "source": [
    "def isPalindrome(s: str) -> bool:\n",
    "    l, r = 0, len(s) - 1\n",
    "    while l < r or l == r:\n",
    "        print(\"l:\",l,\"r:\",r)\n",
    "        if s[l].lower() == s[r].lower():\n",
    "            l += 1\n",
    "            r -= 1\n",
    "        elif (not s[l].isalnum()):\n",
    "            l += 1\n",
    "        elif (not s[r].isalnum()):\n",
    "            print(\"right is not alpha numeric, character: \",s[r])\n",
    "            r -= 1    \n",
    "        else:\n",
    "            return False    \n",
    "    return True"
   ]
  },
  {
   "cell_type": "code",
   "execution_count": 8,
   "id": "303cf29c",
   "metadata": {},
   "outputs": [
    {
     "name": "stdout",
     "output_type": "stream",
     "text": [
      "l: 0 r: 27\n",
      "right is not alpha numeric, character:  ?\n",
      "l: 0 r: 26\n",
      "l: 1 r: 25\n",
      "l: 2 r: 24\n",
      "l: 3 r: 23\n",
      "l: 4 r: 22\n",
      "l: 5 r: 21\n",
      "right is not alpha numeric, character:   \n",
      "l: 5 r: 20\n",
      "l: 6 r: 19\n",
      "l: 7 r: 19\n",
      "l: 8 r: 18\n",
      "l: 9 r: 18\n",
      "l: 10 r: 17\n",
      "right is not alpha numeric, character:   \n",
      "l: 10 r: 16\n",
      "l: 11 r: 15\n",
      "right is not alpha numeric, character:   \n",
      "l: 11 r: 14\n",
      "l: 12 r: 13\n",
      "l: 13 r: 13\n"
     ]
    },
    {
     "data": {
      "text/plain": [
       "True"
      ]
     },
     "execution_count": 8,
     "metadata": {},
     "output_type": "execute_result"
    }
   ],
   "source": [
    "strng = \"Was it a car or a cat I saw?\"\n",
    "isPalindrome(strng)"
   ]
  },
  {
   "cell_type": "code",
   "execution_count": null,
   "id": "e43537ec",
   "metadata": {},
   "outputs": [],
   "source": []
  }
 ],
 "metadata": {
  "kernelspec": {
   "display_name": "Azure_end_to_end_project",
   "language": "python",
   "name": "python3"
  },
  "language_info": {
   "codemirror_mode": {
    "name": "ipython",
    "version": 3
   },
   "file_extension": ".py",
   "mimetype": "text/x-python",
   "name": "python",
   "nbconvert_exporter": "python",
   "pygments_lexer": "ipython3",
   "version": "3.12.2"
  }
 },
 "nbformat": 4,
 "nbformat_minor": 5
}
